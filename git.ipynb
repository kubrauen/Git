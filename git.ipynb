{
 "cells": [
  {
   "cell_type": "code",
   "execution_count": 1,
   "id": "765fe20f",
   "metadata": {},
   "outputs": [
    {
     "data": {
      "text/plain": [
       "128"
      ]
     },
     "execution_count": 1,
     "metadata": {},
     "output_type": "execute_result"
    }
   ],
   "source": [
    "import os \n",
    "from random import randint \n",
    "\n",
    "for i in range(1, 365):\n",
    "\n",
    "    for j in range(0, randint(1, 10)):\n",
    "        d = str(i) +  'days ago'\n",
    "        with open('file.txt','a') as file: \n",
    "            file.write(d)\n",
    "        os.system('git add .')\n",
    "        os.system('git commit --date=\"' + d + '\"-m \"commit\"')\n",
    "os.system('git push -u origin main')"
   ]
  },
  {
   "cell_type": "code",
   "execution_count": null,
   "id": "4c7aab9a",
   "metadata": {},
   "outputs": [],
   "source": []
  }
 ],
 "metadata": {
  "kernelspec": {
   "display_name": "Python 3",
   "language": "python",
   "name": "python3"
  },
  "language_info": {
   "codemirror_mode": {
    "name": "ipython",
    "version": 3
   },
   "file_extension": ".py",
   "mimetype": "text/x-python",
   "name": "python",
   "nbconvert_exporter": "python",
   "pygments_lexer": "ipython3",
   "version": "3.12.1"
  }
 },
 "nbformat": 4,
 "nbformat_minor": 5
}
